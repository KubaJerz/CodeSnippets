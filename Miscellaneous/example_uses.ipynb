{
 "cells": [
  {
   "cell_type": "markdown",
   "metadata": {},
   "source": [
    "# **plot_3D_utils** example"
   ]
  },
  {
   "cell_type": "code",
   "execution_count": 2,
   "metadata": {},
   "outputs": [
    {
     "name": "stdout",
     "output_type": "stream",
     "text": [
      "plotted in browser so returned NONE\n"
     ]
    },
    {
     "ename": "ValueError",
     "evalue": "\nThe fig parameter must be a dict or Figure.\n    Received value of type <class 'NoneType'>: None",
     "output_type": "error",
     "traceback": [
      "\u001b[0;31m---------------------------------------------------------------------------\u001b[0m",
      "\u001b[0;31mValueError\u001b[0m                                Traceback (most recent call last)",
      "Cell \u001b[0;32mIn[2], line 28\u001b[0m\n\u001b[1;32m     18\u001b[0m trajectories \u001b[38;5;241m=\u001b[39m [\n\u001b[1;32m     19\u001b[0m     {\u001b[38;5;124m'\u001b[39m\u001b[38;5;124mpoints\u001b[39m\u001b[38;5;124m'\u001b[39m: [(\u001b[38;5;241m2\u001b[39m, \u001b[38;5;241m0.14\u001b[39m), (\u001b[38;5;241m-\u001b[39m\u001b[38;5;241m0.05\u001b[39m, \u001b[38;5;241m0.353\u001b[39m)], \n\u001b[1;32m     20\u001b[0m      \u001b[38;5;124m'\u001b[39m\u001b[38;5;124mproperties\u001b[39m\u001b[38;5;124m'\u001b[39m: {\u001b[38;5;124m'\u001b[39m\u001b[38;5;124mline\u001b[39m\u001b[38;5;124m'\u001b[39m: \u001b[38;5;28mdict\u001b[39m(color\u001b[38;5;241m=\u001b[39m\u001b[38;5;124m'\u001b[39m\u001b[38;5;124m#cccccc\u001b[39m\u001b[38;5;124m'\u001b[39m, width\u001b[38;5;241m=\u001b[39m\u001b[38;5;241m5\u001b[39m, dash\u001b[38;5;241m=\u001b[39m\u001b[38;5;124m'\u001b[39m\u001b[38;5;124mdash\u001b[39m\u001b[38;5;124m'\u001b[39m)},\n\u001b[0;32m   (...)\u001b[0m\n\u001b[1;32m     24\u001b[0m      \u001b[38;5;124m'\u001b[39m\u001b[38;5;124mtraj_resolution\u001b[39m\u001b[38;5;124m'\u001b[39m: \u001b[38;5;241m15\u001b[39m}\n\u001b[1;32m     25\u001b[0m ]\n\u001b[1;32m     27\u001b[0m fig \u001b[38;5;241m=\u001b[39m plot_3d_surface_plotly(f2, trajectories\u001b[38;5;241m=\u001b[39mtrajectories, show_in_browser\u001b[38;5;241m=\u001b[39m\u001b[38;5;28;01mTrue\u001b[39;00m)\n\u001b[0;32m---> 28\u001b[0m \u001b[43mpio\u001b[49m\u001b[38;5;241;43m.\u001b[39;49m\u001b[43mshow\u001b[49m\u001b[43m(\u001b[49m\u001b[43mfig\u001b[49m\u001b[43m)\u001b[49m\n",
      "File \u001b[0;32m~/VirEnvs/base/lib/python3.12/site-packages/plotly/io/_renderers.py:383\u001b[0m, in \u001b[0;36mshow\u001b[0;34m(fig, renderer, validate, **kwargs)\u001b[0m\n\u001b[1;32m    348\u001b[0m \u001b[38;5;28;01mdef\u001b[39;00m \u001b[38;5;21mshow\u001b[39m(fig, renderer\u001b[38;5;241m=\u001b[39m\u001b[38;5;28;01mNone\u001b[39;00m, validate\u001b[38;5;241m=\u001b[39m\u001b[38;5;28;01mTrue\u001b[39;00m, \u001b[38;5;241m*\u001b[39m\u001b[38;5;241m*\u001b[39mkwargs):\n\u001b[1;32m    349\u001b[0m \u001b[38;5;250m    \u001b[39m\u001b[38;5;124;03m\"\"\"\u001b[39;00m\n\u001b[1;32m    350\u001b[0m \u001b[38;5;124;03m    Show a figure using either the default renderer(s) or the renderer(s)\u001b[39;00m\n\u001b[1;32m    351\u001b[0m \u001b[38;5;124;03m    specified by the renderer argument\u001b[39;00m\n\u001b[0;32m   (...)\u001b[0m\n\u001b[1;32m    381\u001b[0m \u001b[38;5;124;03m    None\u001b[39;00m\n\u001b[1;32m    382\u001b[0m \u001b[38;5;124;03m    \"\"\"\u001b[39;00m\n\u001b[0;32m--> 383\u001b[0m     fig_dict \u001b[38;5;241m=\u001b[39m \u001b[43mvalidate_coerce_fig_to_dict\u001b[49m\u001b[43m(\u001b[49m\u001b[43mfig\u001b[49m\u001b[43m,\u001b[49m\u001b[43m \u001b[49m\u001b[43mvalidate\u001b[49m\u001b[43m)\u001b[49m\n\u001b[1;32m    385\u001b[0m     \u001b[38;5;66;03m# Mimetype renderers\u001b[39;00m\n\u001b[1;32m    386\u001b[0m     bundle \u001b[38;5;241m=\u001b[39m renderers\u001b[38;5;241m.\u001b[39m_build_mime_bundle(fig_dict, renderers_string\u001b[38;5;241m=\u001b[39mrenderer, \u001b[38;5;241m*\u001b[39m\u001b[38;5;241m*\u001b[39mkwargs)\n",
      "File \u001b[0;32m~/VirEnvs/base/lib/python3.12/site-packages/plotly/io/_utils.py:20\u001b[0m, in \u001b[0;36mvalidate_coerce_fig_to_dict\u001b[0;34m(fig, validate)\u001b[0m\n\u001b[1;32m     18\u001b[0m         fig_dict \u001b[38;5;241m=\u001b[39m fig\u001b[38;5;241m.\u001b[39mto_plotly_json()\n\u001b[1;32m     19\u001b[0m     \u001b[38;5;28;01melse\u001b[39;00m:\n\u001b[0;32m---> 20\u001b[0m         \u001b[38;5;28;01mraise\u001b[39;00m \u001b[38;5;167;01mValueError\u001b[39;00m(\n\u001b[1;32m     21\u001b[0m \u001b[38;5;250m            \u001b[39m\u001b[38;5;124;03m\"\"\"\u001b[39;00m\n\u001b[1;32m     22\u001b[0m \u001b[38;5;124;03mThe fig parameter must be a dict or Figure.\u001b[39;00m\n\u001b[1;32m     23\u001b[0m \u001b[38;5;124;03m    Received value of type {typ}: {v}\"\"\"\u001b[39;00m\u001b[38;5;241m.\u001b[39mformat(\n\u001b[1;32m     24\u001b[0m                 typ\u001b[38;5;241m=\u001b[39m\u001b[38;5;28mtype\u001b[39m(fig), v\u001b[38;5;241m=\u001b[39mfig\n\u001b[1;32m     25\u001b[0m             )\n\u001b[1;32m     26\u001b[0m         )\n\u001b[1;32m     27\u001b[0m     \u001b[38;5;28;01mreturn\u001b[39;00m fig_dict\n",
      "\u001b[0;31mValueError\u001b[0m: \nThe fig parameter must be a dict or Figure.\n    Received value of type <class 'NoneType'>: None"
     ]
    }
   ],
   "source": [
    "from plot_3D_utils import plot_3d_surface_matplotlib, plot_3d_surface_plotly\n",
    "import numpy as np\n",
    "import matplotlib.pyplot as plt\n",
    "import plotly.io as pio\n",
    "\n",
    "# def the func\n",
    "def f1(x, y):\n",
    "    return (np.cos(x) - 0.1*y)**2 - 0.3*x + 2\n",
    "\n",
    "def f2(x, y):\n",
    "    return 2 * np.cos(x + 2) + 1.5 * np.cos(0.65 * y) + 0.5 * x\n",
    "\n",
    "# matplotlib plot\n",
    "# fig, ax = plot_3d_surface_matplotlib(f1, trajectory=[(-3, -1), (0, 0)])\n",
    "# plt.show()\n",
    "\n",
    "# Plotly plot\n",
    "trajectories = [\n",
    "    {'points': [(2, 0.14), (-0.05, 0.353)], \n",
    "     'properties': {'line': dict(color='#cccccc', width=5, dash='dash')},\n",
    "     'traj_resolution': 15},\n",
    "    {'points': [(0.15, 0.353), (0.35, 0.35)], \n",
    "     'properties': {'line': dict(color='red', width=5, dash='solid')},\n",
    "     'traj_resolution': 15}\n",
    "]\n",
    "\n",
    "fig = plot_3d_surface_plotly(f2, trajectories=trajectories, show_in_browser=True)\n",
    "pio.show(fig)"
   ]
  }
 ],
 "metadata": {
  "kernelspec": {
   "display_name": "base",
   "language": "python",
   "name": "python3"
  },
  "language_info": {
   "codemirror_mode": {
    "name": "ipython",
    "version": 3
   },
   "file_extension": ".py",
   "mimetype": "text/x-python",
   "name": "python",
   "nbconvert_exporter": "python",
   "pygments_lexer": "ipython3",
   "version": "3.12.3"
  }
 },
 "nbformat": 4,
 "nbformat_minor": 2
}
