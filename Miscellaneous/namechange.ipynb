{
 "cells": [
  {
   "cell_type": "markdown",
   "metadata": {},
   "source": [
    "### This Code is used from renaming files in a dir from ``` 'sometext.fileend' ``` to ```'00.fileend'```"
   ]
  },
  {
   "cell_type": "code",
   "execution_count": 21,
   "metadata": {},
   "outputs": [],
   "source": [
    "import os"
   ]
  },
  {
   "cell_type": "code",
   "execution_count": 25,
   "metadata": {},
   "outputs": [],
   "source": [
    "\n",
    "def generate_new_name(old_name, i):\n",
    "    # parts = old_name.split('-')\n",
    "    # letter = parts[0][0]\n",
    "    # number = parts[0][1:]\n",
    "    pf_or_vehicle = \"0\" if \"PF\" in old_name else \"1\"\n",
    "    if i < 10:\n",
    "        return f\"00{i}_{pf_or_vehicle}.pt\"\n",
    "    else:\n",
    "        return f\"0{i}_{pf_or_vehicle}.pt\"\n",
    "\n"
   ]
  },
  {
   "cell_type": "code",
   "execution_count": 26,
   "metadata": {},
   "outputs": [],
   "source": [
    "mapping = []\n",
    "\n",
    "directory = os.getcwd()\n",
    "i = 0\n",
    "j = -1\n",
    "for filename in sorted(os.listdir(directory)):\n",
    "    if filename.endswith(\".pt\"):\n",
    "        if i % 2 == 0:\n",
    "            j += 1\n",
    "        i += 1\n",
    "\n",
    "        new_name = generate_new_name(filename,j)\n",
    "        mapping.append(f\"{filename} -> {new_name}\")\n",
    "\n",
    "        os.rename(os.path.join(directory, filename), os.path.join(directory, new_name))\n",
    "\n",
    "        \n",
    "        # Rename the file\n",
    "        \n",
    "with open(\"file_name_maping.txt\", \"w\") as f:\n",
    "    f.write(\"\\n\".join(mapping))\n",
    "\n"
   ]
  }
 ],
 "metadata": {
  "kernelspec": {
   "display_name": "base",
   "language": "python",
   "name": "python3"
  },
  "language_info": {
   "codemirror_mode": {
    "name": "ipython",
    "version": 3
   },
   "file_extension": ".py",
   "mimetype": "text/x-python",
   "name": "python",
   "nbconvert_exporter": "python",
   "pygments_lexer": "ipython3",
   "version": "3.12.3"
  }
 },
 "nbformat": 4,
 "nbformat_minor": 2
}
